{
  "nbformat": 4,
  "nbformat_minor": 0,
  "metadata": {
    "colab": {
      "name": "Untitled0.ipynb",
      "provenance": [],
      "authorship_tag": "ABX9TyOL3NRI2ZMZMbfWS1u6jBrl",
      "include_colab_link": true
    },
    "kernelspec": {
      "name": "python3",
      "display_name": "Python 3"
    },
    "language_info": {
      "name": "python"
    }
  },
  "cells": [
    {
      "cell_type": "markdown",
      "metadata": {
        "id": "view-in-github",
        "colab_type": "text"
      },
      "source": [
        "<a href=\"https://colab.research.google.com/github/maryblue31/JavaBlue/blob/master/Levenshtein%20Matrix.ipynb\" target=\"_parent\"><img src=\"https://colab.research.google.com/assets/colab-badge.svg\" alt=\"Open In Colab\"/></a>"
      ]
    },
    {
      "cell_type": "code",
      "metadata": {
        "colab": {
          "base_uri": "https://localhost:8080/"
        },
        "id": "-48W7GAfYl35",
        "outputId": "9d64c591-288f-4797-eb69-8152e3f9acae"
      },
      "source": [
        "def iterative_levenshtein(s, t):\n",
        "    \"\"\" \n",
        "        iterative_levenshtein(s, t) -> ldist\n",
        "        ldist is the Levenshtein distance between the strings \n",
        "        s and t.\n",
        "        For all i and j, dist[i,j] will contain the Levenshtein \n",
        "        distance between the first i characters of s and the \n",
        "        first j characters of t\n",
        "    \"\"\"\n",
        "\n",
        "    rows = len(s)+1\n",
        "    cols = len(t)+1\n",
        "    dist = [[0 for x in range(cols)] for x in range(rows)]\n",
        "\n",
        "    \n",
        "    for i in range(1, rows):\n",
        "        dist[i][0] = i\n",
        "\n",
        "   \n",
        "    for i in range(1, cols):\n",
        "        dist[0][i] = i\n",
        "        \n",
        "    for col in range(1, cols):\n",
        "        for row in range(1, rows):\n",
        "            if s[row-1] == t[col-1]:\n",
        "                cost = 0\n",
        "            else:\n",
        "                cost = 1\n",
        "            dist[row][col] = min(dist[row-1][col] + 1,      # deletion\n",
        "                                 dist[row][col-1] + 1,      # insertion\n",
        "                                 dist[row-1][col-1] + cost) # substitution\n",
        "\n",
        "    for r in range(rows):\n",
        "        print(dist[r])\n",
        "    \n",
        " \n",
        "    return dist[row][col]\n",
        "\n",
        "print(iterative_levenshtein(\"mary\", \"merry\"))"
      ],
      "execution_count": 1,
      "outputs": [
        {
          "output_type": "stream",
          "name": "stdout",
          "text": [
            "[0, 1, 2, 3, 4, 5]\n",
            "[1, 0, 1, 2, 3, 4]\n",
            "[2, 1, 1, 2, 3, 4]\n",
            "[3, 2, 2, 1, 2, 3]\n",
            "[4, 3, 3, 2, 2, 2]\n",
            "2\n"
          ]
        }
      ]
    }
  ]
}